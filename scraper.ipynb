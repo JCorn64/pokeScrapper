{
 "cells": [
  {
   "cell_type": "code",
   "execution_count": 1,
   "metadata": {},
   "outputs": [],
   "source": [
    "import os\n",
    "from bs4 import BeautifulSoup as bs \n",
    "import requests \n",
    "import pandas as pandas\n",
    "# import mechanize\n",
    "\n",
    "from selenium import webdriver"
   ]
  },
  {
   "cell_type": "code",
   "execution_count": 2,
   "metadata": {},
   "outputs": [],
   "source": [
    "URL_price_charting = 'https://www.pricecharting.com/game/pokemon-evolving-skies/umbreon-vmax-215'\n",
    "URL_tcg_player = 'https://www.tcgplayer.com/product/246723/pokemon-swsh07-evolving-skies-umbreon-vmax-alternate-art-secret?Language=English'"
   ]
  },
  {
   "cell_type": "code",
   "execution_count": 3,
   "metadata": {},
   "outputs": [],
   "source": [
    "page = requests.get(URL_price_charting)"
   ]
  },
  {
   "cell_type": "code",
   "execution_count": 4,
   "metadata": {},
   "outputs": [],
   "source": [
    "soup = bs(page.content, 'html.parser')"
   ]
  },
  {
   "cell_type": "code",
   "execution_count": 5,
   "metadata": {},
   "outputs": [],
   "source": [
    "def get_ungraded_price_PC(soup):\n",
    "    ungraded_tag = soup.find('td', text='Ungraded')  # find the td tag with text 'Ungraded'\n",
    "    if ungraded_tag:\n",
    "        price_tag = ungraded_tag.find_next_sibling('td')  # find the next td tag\n",
    "        price = price_tag.text if price_tag else None\n",
    "        price = price.replace('$', '')\n",
    "        price = float(price)\n",
    "        \n",
    "    else:\n",
    "        price = None\n",
    "        \n",
    "    return price"
   ]
  },
  {
   "cell_type": "code",
   "execution_count": 6,
   "metadata": {},
   "outputs": [
    {
     "name": "stderr",
     "output_type": "stream",
     "text": [
      "C:\\Users\\nexli\\AppData\\Local\\Temp\\ipykernel_11740\\376585352.py:2: DeprecationWarning: The 'text' argument to find()-type methods is deprecated. Use 'string' instead.\n",
      "  ungraded_tag = soup.find('td', text='Ungraded')  # find the td tag with text 'Ungraded'\n"
     ]
    },
    {
     "data": {
      "text/plain": [
       "600.77"
      ]
     },
     "execution_count": 6,
     "metadata": {},
     "output_type": "execute_result"
    }
   ],
   "source": [
    "get_ungraded_price_PC(soup)"
   ]
  }
 ],
 "metadata": {
  "kernelspec": {
   "display_name": "Poke_Scrape",
   "language": "python",
   "name": "python3"
  },
  "language_info": {
   "codemirror_mode": {
    "name": "ipython",
    "version": 3
   },
   "file_extension": ".py",
   "mimetype": "text/x-python",
   "name": "python",
   "nbconvert_exporter": "python",
   "pygments_lexer": "ipython3",
   "version": "3.12.2"
  }
 },
 "nbformat": 4,
 "nbformat_minor": 2
}
