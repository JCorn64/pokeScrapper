{
 "cells": [
  {
   "cell_type": "code",
   "execution_count": 8,
   "metadata": {},
   "outputs": [],
   "source": [
    "import os\n",
    "from dotenv import load_dotenv\n",
    "from pokemontcgsdk import Card\n",
    "from pokemontcgsdk import RestClient\n",
    "\n",
    "from bs4 import BeautifulSoup as bs \n",
    "import pandas as pandas\n",
    "import requests \n",
    "\n",
    "\n",
    "\n",
    "load_dotenv()\n",
    "\n",
    "api_key = os.environ['API_KEY']\n",
    "\n",
    "RestClient.configure(api_key)\n",
    "\n",
    "# Add these to list!\n",
    "umbreon_card_tcg = Card.find('swsh7-215')\n",
    "charzard_card_tcg = Card.find('swsh9-154')\n",
    "charzard_card_tcg = Card.find('sv4pt5-232')\n",
    "\n",
    "cards = {\n",
    "    \"Iron Crown\": {\n",
    "        \"tcg_tag\": \"sv5-206\",\n",
    "        \"tcgplayer\": \"https://www.tcgplayer.com/product/542927/pokemon-sv05-temporal-forces-iron-crown-ex-206-162?page=1&Language=English\",\n",
    "        \"pricecharting\": \"https://www.pricecharting.com/game/pokemon-temporal-forces/iron-crown-ex-206\"\n",
    "    },\n",
    "    \"Raging Bolt\": {\n",
    "        \"tcg_tag\": \"sv5-208\",\n",
    "        \"tcgplayer\": \"https://www.tcgplayer.com/product/542929/pokemon-sv05-temporal-forces-raging-bolt-ex-208-162?page=1&Language=English\",\n",
    "        \"pricecharting\": \"https://www.pricecharting.com/es/game/pokemon-temporal-forces/raging-bolt-ex-208\"\n",
    "    },\n",
    "    \"Mew ex\": {\n",
    "        \"tcg_tag\": \"sv4pt5-232\",\n",
    "        \"tcgplayer\": \"https://www.tcgplayer.com/product/534919/pokemon-sv-paldean-fates-mew-ex-232-091?page=1&Language=English\",\n",
    "        \"pricecharting\": \"https://www.pricecharting.com/game/pokemon-paldean-fates/mew-ex-232\"\n",
    "    },\n",
    "    \"Charizard ex PAF\": {\n",
    "        \"tcg_tag\": \"sv4pt5-234\",\n",
    "        \"tcgplayer\": \"https://www.tcgplayer.com/product/535090/pokemon-sv-paldean-fates-charizard-ex-234-091?page=1&Language=English\",\n",
    "        \"pricecharting\": \"https://www.pricecharting.com/game/pokemon-paldean-fates/mew-ex-232\"\n",
    "    },\n",
    "    \"Roaring Moon\": {\n",
    "        \"tcg_tag\": \"sv4-251\",\n",
    "        \"tcgplayer\": \"https://www.tcgplayer.com/product/523932/pokemon-sv04-paradox-rift-roaring-moon-ex-251-182?page=1&Language=English\",\n",
    "        \"pricecharting\": \"https://www.pricecharting.com/game/pokemon-paradox-rift/roaring-moon-ex-holo-251\"\n",
    "    },\n",
    "    \"Iron Hands\": {\n",
    "        \"tcg_tag\": \"sv4-248\",\n",
    "        \"tcgplayer\": \"https://www.tcgplayer.com/product/523929/pokemon-sv04-paradox-rift-iron-hands-ex-248-182?page=1&Language=English\",\n",
    "        \"pricecharting\": \"https://www.pricecharting.com/game/pokemon-paradox-rift/iron-hands-ex-holo-248\"\n",
    "    },\n",
    "    \"Charizard ex MEW\": {\n",
    "        \"tcg_tag\": \"sv3pt5-199\",\n",
    "        \"tcgplayer\": \"https://www.tcgplayer.com/product/517045/pokemon-sv-scarlet-and-violet-151-charizard-ex-199-165?page=1&Language=English\",\n",
    "        \"pricecharting\": \"https://www.pricecharting.com/game/pokemon-scarlet-&-violet-151/charizard-ex-199\"\n",
    "    },\n",
    "    \"Blastoise ex\": {\n",
    "        \"tcg_tag\": \"sv3pt5-200\",\n",
    "        \"tcgplayer\": \"https://www.tcgplayer.com/product/517046/pokemon-sv-scarlet-and-violet-151-blastoise-ex-200-165?page=1&Language=English\",\n",
    "        \"pricecharting\": \"https://www.pricecharting.com/game/pokemon-scarlet-&-violet-151/blastoise-ex-200\"\n",
    "    },\n",
    "    \"Charizard ex OBF\": {\n",
    "        \"tcg_tag\": \"sv3-223\",\n",
    "        \"tcgplayer\": \"https://www.tcgplayer.com/product/509980/pokemon-sv03-obsidian-flames-charizard-ex-223-197?page=1&Language=English\",\n",
    "        \"pricecharting\": \"https://www.pricecharting.com/game/pokemon-obsidian-flames/charizard-ex-223\"\n",
    "    },\n",
    "    \"Pidgeot ex\": {\n",
    "        \"tcg_tag\": \"sv3-225\",\n",
    "        \"tcgplayer\": \"https://www.tcgplayer.com/product/509983/pokemon-sv03-obsidian-flames-pidgeot-ex-225-197?page=1&Language=English\",\n",
    "        \"pricecharting\": \"https://www.pricecharting.com/game/pokemon-obsidian-flames/pidgeot-ex-225\"\n",
    "    },\n",
    "    \"Iono\": {\n",
    "        \"tcg_tag\": \"sv2-269\",\n",
    "        \"tcgplayer\": \"https://www.tcgplayer.com/product/497689/pokemon-sv02-paldea-evolved-iono-269-193?page=1&Language=English\",\n",
    "        \"pricecharting\": \"https://www.pricecharting.com/game/pokemon-paldea-evolved/iono-holo-269\"\n",
    "    },\n",
    "    \"Chien-Pao ex\": {\n",
    "        \"tcg_tag\": \"sv2-261\",\n",
    "        \"tcgplayer\": \"https://www.tcgplayer.com/product/497680/pokemon-sv02-paldea-evolved-chien-pao-ex-261-193?page=1&Language=English\",\n",
    "        \"pricecharting\": \"https://www.pricecharting.com/game/pokemon-paldea-evolved/chien-pao-ex-holo-261\"\n",
    "    },\n",
    "    \"Miriam\": {\n",
    "        \"tcg_tag\": \"sv1-251\",\n",
    "        \"tcgplayer\": \"https://www.tcgplayer.com/product/487061/pokemon-sv01-scarlet-and-violet-base-set-miriam-251-198?page=1&Language=English\",\n",
    "        \"pricecharting\": \"https://www.pricecharting.com/game/pokemon-scarlet-&-violet/miriam-251\"\n",
    "    },\n",
    "    \"Gardevoir ex\": {\n",
    "        \"tcg_tag\": \"sv1-245\",\n",
    "        \"tcgplayer\": \"https://www.tcgplayer.com/product/486623/pokemon-sv01-scarlet-and-violet-base-set-gardevoir-ex-245-198?page=1&Language=English\",\n",
    "        \"pricecharting\": \"https://www.pricecharting.com/game/pokemon-scarlet-&-violet/gardevoir-ex-245\"\n",
    "    }\n",
    "}\n",
    "\n"
   ]
  },
  {
   "cell_type": "code",
   "execution_count": null,
   "metadata": {},
   "outputs": [],
   "source": [
    "umbreon_card_tcg.tcgplayer.prices"
   ]
  },
  {
   "cell_type": "code",
   "execution_count": 2,
   "metadata": {},
   "outputs": [
    {
     "data": {
      "text/plain": [
       "'https://www.tcgplayer.com/product/542927/pokemon-sv05-temporal-forces-iron-crown-ex-206-162?page=1&Language=English'"
      ]
     },
     "execution_count": 2,
     "metadata": {},
     "output_type": "execute_result"
    }
   ],
   "source": [
    "cards['Iron Crown']['tcgplayer']"
   ]
  },
  {
   "cell_type": "code",
   "execution_count": 3,
   "metadata": {},
   "outputs": [],
   "source": [
    "sample = Card.find(cards['Iron Crown']['tcg_tag'])"
   ]
  },
  {
   "cell_type": "code",
   "execution_count": 4,
   "metadata": {},
   "outputs": [
    {
     "name": "stdout",
     "output_type": "stream",
     "text": [
      "Iron Crown\n",
      "95.84\n",
      "Raging Bolt\n",
      "75.65\n",
      "Mew ex\n",
      "73.95\n",
      "Charizard ex PAF\n",
      "111.42\n",
      "Roaring Moon\n",
      "54.81\n",
      "Iron Hands\n",
      "31.11\n",
      "Charizard ex MEW\n",
      "105.23\n",
      "Blastoise ex\n",
      "45.41\n",
      "Charizard ex OBF\n",
      "47.64\n",
      "Pidgeot ex\n",
      "8.66\n",
      "Iono\n",
      "74.65\n",
      "Chien-Pao ex\n",
      "20.89\n",
      "Miriam\n",
      "22.69\n",
      "Gardevoir ex\n",
      "19.85\n"
     ]
    }
   ],
   "source": [
    "for card in cards:\n",
    "    print(card)\n",
    "    sample_card = Card.find(cards[card]['tcg_tag'])\n",
    "    print(sample_card.tcgplayer.prices.holofoil.market)\n",
    "    \n",
    "   "
   ]
  },
  {
   "cell_type": "code",
   "execution_count": 9,
   "metadata": {},
   "outputs": [],
   "source": [
    "def get_ungraded_price_PC(soup):\n",
    "    ungraded_tag = soup.find('td', text='Ungraded')  # find the td tag with text 'Ungraded'\n",
    "    if ungraded_tag:\n",
    "        price_tag = ungraded_tag.find_next_sibling('td')  # find the next td tag\n",
    "        price = price_tag.text if price_tag else None\n",
    "        price = price.replace('$', '')\n",
    "        price = float(price)\n",
    "        \n",
    "    else:\n",
    "        price = None\n",
    "        \n",
    "    return price"
   ]
  },
  {
   "cell_type": "code",
   "execution_count": 11,
   "metadata": {},
   "outputs": [
    {
     "name": "stdout",
     "output_type": "stream",
     "text": [
      "Iron Crown\n",
      "76.0\n"
     ]
    },
    {
     "name": "stderr",
     "output_type": "stream",
     "text": [
      "C:\\Users\\nexli\\AppData\\Local\\Temp\\ipykernel_2092\\376585352.py:2: DeprecationWarning: The 'text' argument to find()-type methods is deprecated. Use 'string' instead.\n",
      "  ungraded_tag = soup.find('td', text='Ungraded')  # find the td tag with text 'Ungraded'\n"
     ]
    },
    {
     "name": "stdout",
     "output_type": "stream",
     "text": [
      "Raging Bolt\n",
      "59.0\n",
      "Mew ex\n",
      "91.0\n",
      "Charizard ex PAF\n",
      "91.0\n",
      "Roaring Moon\n",
      "None\n",
      "Iron Hands\n",
      "None\n",
      "Charizard ex MEW\n",
      "97.38\n",
      "Blastoise ex\n",
      "41.5\n",
      "Charizard ex OBF\n",
      "45.0\n",
      "Pidgeot ex\n",
      "8.87\n",
      "Iono\n",
      "64.5\n",
      "Chien-Pao ex\n",
      "15.94\n",
      "Miriam\n",
      "24.5\n",
      "Gardevoir ex\n",
      "18.87\n"
     ]
    }
   ],
   "source": [
    "for card in cards:\n",
    "    temp_page = requests.get(cards[card]['pricecharting'])\n",
    "    temp_card_soup = bs(temp_page.content, 'html.parser')\n",
    "    \n",
    "    print(card)\n",
    "    print(get_ungraded_price_PC(temp_card_soup))\n",
    "    "
   ]
  }
 ],
 "metadata": {
  "kernelspec": {
   "display_name": "Poke_Scrape",
   "language": "python",
   "name": "python3"
  },
  "language_info": {
   "codemirror_mode": {
    "name": "ipython",
    "version": 3
   },
   "file_extension": ".py",
   "mimetype": "text/x-python",
   "name": "python",
   "nbconvert_exporter": "python",
   "pygments_lexer": "ipython3",
   "version": "3.12.2"
  }
 },
 "nbformat": 4,
 "nbformat_minor": 2
}
